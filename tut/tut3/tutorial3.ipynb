{
 "cells": [
  {
   "cell_type": "markdown",
   "metadata": {
    "id": "eiN9jg1NsXJ5"
   },
   "source": [
    "# PyTorch basics, Adaline, MLP, multi-class classification and Autograd"
   ]
  },
  {
   "cell_type": "code",
   "execution_count": null,
   "metadata": {
    "id": "68bKqq8OsuEm"
   },
   "outputs": [],
   "source": []
  },
  {
   "cell_type": "markdown",
   "metadata": {
    "id": "d1XAjjx7sXJ5"
   },
   "source": [
    "Yunhao GOU, ygou@connect.ust.hk"
   ]
  },
  {
   "cell_type": "markdown",
   "metadata": {
    "id": "C7ERzQvBsXJ5"
   },
   "source": [
    "## Basic Operations in PyTorch\n",
    "\n",
    "What is PyTorch?\n",
    "\n",
    "Long answer: see the [homepage for PyTorch](https://pytorch.org/)\n",
    "\n",
    "Short answer: just treat it as a package to define arrays and compute gradients"
   ]
  },
  {
   "cell_type": "markdown",
   "metadata": {
    "id": "xbTISKc0sXJ5"
   },
   "source": [
    "The first step to use PyTorch: import package"
   ]
  },
  {
   "cell_type": "code",
   "execution_count": 2,
   "metadata": {
    "id": "ROVX4wBqsXJ6"
   },
   "outputs": [],
   "source": [
    "import torch\n",
    "import torch.nn as nn"
   ]
  },
  {
   "cell_type": "markdown",
   "metadata": {
    "id": "CUdRcY5UsXJ6"
   },
   "source": [
    "Now we see some examples to define vector or matrix"
   ]
  },
  {
   "cell_type": "code",
   "execution_count": 4,
   "metadata": {
    "colab": {
     "base_uri": "https://localhost:8080/"
    },
    "id": "7Xd77_HksXJ6",
    "outputId": "787b7106-5920-4a71-dd86-9a51d6070c8a"
   },
   "outputs": [
    {
     "name": "stdout",
     "output_type": "stream",
     "text": [
      "Gaussian random vector: tensor([ 1.5410, -0.2934, -2.1788,  0.5684])\n",
      "Unifom random vector (in [0,1]): tensor([0.4556, 0.6323, 0.3489, 0.4017])\n",
      "All zero vector: tensor([0., 0., 0., 0.])\n",
      "All one vector: tensor([1., 1., 1., 1.])\n",
      "Uniform random integer vector from 0-7: tensor([4, 7, 6, 0])\n",
      "Gaussian random matrix: tensor([[-1.3527, -1.6959,  0.5667,  0.7935],\n",
      "        [ 0.5988, -1.5551, -0.3414,  1.8530],\n",
      "        [ 0.7502, -0.5855, -0.1734,  0.1835],\n",
      "        [ 1.3894,  1.5863,  0.9463, -0.8437]])\n"
     ]
    }
   ],
   "source": [
    "torch.manual_seed(0)\n",
    "vec_example_1 = torch.randn(4)\n",
    "vec_example_2 = torch.rand(4)\n",
    "vec_example_3 = torch.zeros(4)\n",
    "vec_example_4 = torch.ones(4)\n",
    "vec_example_5 = torch.randint(8, (4,))\n",
    "mat_example = torch.randn((4,4))\n",
    "print('Gaussian random vector:', vec_example_1)\n",
    "print('Unifom random vector (in [0,1]):', vec_example_2)\n",
    "print('All zero vector:', vec_example_3)\n",
    "print('All one vector:', vec_example_4)\n",
    "print('Uniform random integer vector from 0-7:', vec_example_5)\n",
    "print('Gaussian random matrix:', mat_example)"
   ]
  },
  {
   "cell_type": "markdown",
   "metadata": {
    "id": "Iuh3GqjxsXJ6"
   },
   "source": [
    "These are almost identical to the operations in NumPy ~~(Ctrl-F numpy/np->torch)~~\n",
    "\n",
    "The term \"tensor\" refers to a combination for vectors (1 axis), matrices (2 axis) and data structures with more axes.\n",
    "\n",
    "By now, we only need to consider vectors or matrices in most cases, so just treat it as an alternative name"
   ]
  },
  {
   "cell_type": "markdown",
   "metadata": {
    "id": "F-YBHwIwsXJ6"
   },
   "source": [
    "## Adaline in PyTorch\n",
    "\n",
    "Now we see how we can implement Adaline in PyTorch\n",
    "\n",
    "The output of Adaline is given by $o(\\vec{w})=\\sum_{i=0}^n w_i x_i$, i.e. the dot product between the weight vector $\\vec{w}$ and the feature vector $\\vec{x}$\n",
    "\n",
    "Here is its implementation in PyTorch:"
   ]
  },
  {
   "cell_type": "code",
   "execution_count": 5,
   "metadata": {
    "colab": {
     "base_uri": "https://localhost:8080/"
    },
    "id": "wkvBC7iVsXJ7",
    "outputId": "cc173cb3-0fb6-4f48-f5b0-a70b309303ed"
   },
   "outputs": [
    {
     "name": "stdout",
     "output_type": "stream",
     "text": [
      "Weight: tensor([ 1.5410, -0.2934, -2.1788,  0.5684, -1.0845])\n",
      "Input: tensor([ 1.0000, -1.3986,  0.4033,  0.8380, -0.7193])\n",
      "Prediction: tensor(2.3290)\n"
     ]
    }
   ],
   "source": [
    "torch.manual_seed(0)\n",
    "feat_dim = 4\n",
    "w = torch.randn(feat_dim+1)\n",
    "x = torch.cat((torch.ones(1), torch.randn(feat_dim)), dim=0) # Concatenate a 1 element to, i.e. x=[1,x1,x2,x3,x4]\n",
    "pred = torch.dot(x,w)\n",
    "print('Weight:', w)\n",
    "print('Input:', x)\n",
    "print('Prediction:', pred)"
   ]
  },
  {
   "cell_type": "markdown",
   "metadata": {
    "id": "d5vrNCZ0sXJ7"
   },
   "source": [
    "This example only contains one training sample. To use more training samples, consider using a matrix as follows:"
   ]
  },
  {
   "cell_type": "code",
   "execution_count": 6,
   "metadata": {
    "colab": {
     "base_uri": "https://localhost:8080/"
    },
    "id": "fP1NHPsfsXJ7",
    "outputId": "e548d31f-59d1-4a13-ef1f-e4d9bfe03dad"
   },
   "outputs": [
    {
     "name": "stdout",
     "output_type": "stream",
     "text": [
      "torch.Size([8, 5])\n"
     ]
    }
   ],
   "source": [
    "feat_dim = 4\n",
    "num_train = 8\n",
    "X = torch.cat((torch.ones(num_train, 1), torch.randn(num_train, feat_dim)), dim=1)\n",
    "print(X.shape)"
   ]
  },
  {
   "cell_type": "markdown",
   "metadata": {
    "id": "HoE6ODL7sXJ7"
   },
   "source": [
    "Looks good: number of training samples $\\times$ number of features\n",
    "\n",
    "Now we see how to compute the prediction"
   ]
  },
  {
   "cell_type": "code",
   "execution_count": 7,
   "metadata": {
    "colab": {
     "base_uri": "https://localhost:8080/"
    },
    "id": "FnkFKwcxsXJ7",
    "outputId": "2836e6ad-285a-437b-c26e-caec15082fa5"
   },
   "outputs": [
    {
     "name": "stdout",
     "output_type": "stream",
     "text": [
      "tensor([ 2.5498,  2.2794, -0.8701, -0.3941,  1.0529,  3.2605, -2.7426,  0.3267]) torch.Size([8])\n"
     ]
    }
   ],
   "source": [
    "pred = torch.mv(X, w) # mv stands for \"matrix-vector product\"\n",
    "print(pred, pred.shape)"
   ]
  },
  {
   "cell_type": "markdown",
   "metadata": {
    "id": "IwqbRaIysXJ7"
   },
   "source": [
    "Also looks good, we have exactly the same number of predictions\n",
    "\n",
    "Now we generate the target and see the difference between prediction and target"
   ]
  },
  {
   "cell_type": "code",
   "execution_count": null,
   "metadata": {},
   "outputs": [],
   "source": []
  },
  {
   "cell_type": "code",
   "execution_count": 8,
   "metadata": {
    "colab": {
     "base_uri": "https://localhost:8080/"
    },
    "id": "XHmOlqrusXJ7",
    "outputId": "a6611ef6-1bbc-4c15-efa9-c539c167e444"
   },
   "outputs": [
    {
     "name": "stdout",
     "output_type": "stream",
     "text": [
      "Prediction: tensor([ 2.5498,  2.2794, -0.8701, -0.3941,  1.0529,  3.2605, -2.7426,  0.3267])\n",
      "Target: tensor([ 1.5410, -0.2934, -2.1788,  0.5684, -1.0845, -1.3986,  0.4033,  0.8380])\n",
      "Difference: tensor([ 1.0088,  2.5728,  1.3087, -0.9626,  2.1374,  4.6591, -3.1460, -0.5113])\n"
     ]
    }
   ],
   "source": [
    "torch.manual_seed(0)\n",
    "target = torch.randn(num_train)\n",
    "print('Prediction:', pred)\n",
    "print('Target:', target)\n",
    "print('Difference:', pred-target)"
   ]
  },
  {
   "cell_type": "markdown",
   "metadata": {
    "id": "qXJ9MDhhsXJ7"
   },
   "source": [
    "Does not look so good, so we need to optimize the weights now\n",
    "\n",
    "\n",
    "\n",
    "Recall that in lecture, the gradient for $\\vec{w}$ is given by:\n",
    "$$\\frac{\\partial E}{\\partial w_i} = \\sum_d (t_d - o_d) (-x_{i,d})$$\n",
    "where $d$ indexes training samples, $i$ indexes features\n",
    "\n",
    "When we have only one training samples, we simply have:\n",
    "$$\\frac{\\partial E}{\\partial w_i} = (t_d - o_d) (-x_{i,d})$$\n",
    "and here is how to compute it in PyTorch"
   ]
  },
  {
   "cell_type": "code",
   "execution_count": 9,
   "metadata": {
    "colab": {
     "base_uri": "https://localhost:8080/"
    },
    "id": "i6lIpgI8sXJ7",
    "outputId": "888b323d-4eb7-4397-d1e3-a48999f205e3"
   },
   "outputs": [
    {
     "name": "stdout",
     "output_type": "stream",
     "text": [
      "Weight: tensor([ 1.5410, -0.2934, -2.1788,  0.5684, -1.0845])\n",
      "Gradient: tensor([ 2.7323, -3.8214,  1.1021,  2.2898, -1.9653])\n",
      "Weight shape: torch.Size([5])\n",
      "Gradient shape: torch.Size([5])\n"
     ]
    }
   ],
   "source": [
    "torch.manual_seed(0)\n",
    "feat_dim = 4\n",
    "w = torch.randn(feat_dim+1)\n",
    "x = torch.cat((torch.ones(1), torch.randn(feat_dim)), dim=0)\n",
    "pred = torch.dot(x,w)\n",
    "target = torch.randn(1)\n",
    "\n",
    "grad_w = (target-pred)*(-x)\n",
    "print('Weight:', w)\n",
    "print('Gradient:', grad_w)\n",
    "print('Weight shape:', w.shape)\n",
    "print('Gradient shape:', grad_w.shape)"
   ]
  },
  {
   "cell_type": "markdown",
   "metadata": {
    "id": "d4S5Qy9EsXJ7"
   },
   "source": [
    "Now we can implement gradient descent as follows:"
   ]
  },
  {
   "cell_type": "code",
   "execution_count": 10,
   "metadata": {
    "colab": {
     "base_uri": "https://localhost:8080/"
    },
    "id": "Er0wsR0UsXJ7",
    "outputId": "6d646abe-d4ad-4c8d-b4ea-6dd1b6426b13"
   },
   "outputs": [
    {
     "name": "stdout",
     "output_type": "stream",
     "text": [
      "Prediction: tensor(2.3290)\n",
      "Target: tensor([-0.4033])\n",
      "Difference before training: tensor([2.7323])\n",
      "Prediction: tensor(-0.4033)\n",
      "Target: tensor([-0.4033])\n",
      "Difference after training: tensor([2.0862e-07])\n"
     ]
    }
   ],
   "source": [
    "pred = torch.dot(x,w)\n",
    "print('Prediction:', pred)\n",
    "print('Target:', target)\n",
    "print('Difference before training:', pred-target)\n",
    "num_iter = 1000\n",
    "alpha = 1e-2\n",
    "\n",
    "for _ in range(num_iter):\n",
    "    pred = torch.dot(x,w)\n",
    "    grad_w = (target-pred)*(-x)\n",
    "    w = w - alpha*grad_w\n",
    "\n",
    "pred = torch.dot(x,w)\n",
    "print('Prediction:', pred)\n",
    "print('Target:', target)\n",
    "print('Difference after training:', pred-target)"
   ]
  },
  {
   "cell_type": "markdown",
   "metadata": {
    "id": "60-sN_BPsXJ7"
   },
   "source": [
    "Looks good now: we almost completely eliminate the error\n",
    "\n",
    "Now we see how to compute the gradient on more training samples by matrix multiplication"
   ]
  },
  {
   "cell_type": "code",
   "execution_count": 11,
   "metadata": {
    "colab": {
     "base_uri": "https://localhost:8080/"
    },
    "id": "KvjjB97ssXJ7",
    "outputId": "55eccfa4-ab8e-4639-80b3-6a4719e96e51"
   },
   "outputs": [
    {
     "name": "stdout",
     "output_type": "stream",
     "text": [
      "Weight: tensor([ 1.5410, -0.2934, -2.1788,  0.5684, -1.0845])\n",
      "Gradient from direct implementation: tensor([ 14.9825,  -3.1721, -12.5810,  -2.1126,  -9.2198])\n",
      "Gradient from matrix multiplication: tensor([ 14.9825,  -3.1721, -12.5810,  -2.1126,  -9.2198])\n",
      "Weight shape: torch.Size([5])\n",
      "Gradient shape: torch.Size([5]) torch.Size([5])\n"
     ]
    }
   ],
   "source": [
    "torch.manual_seed(0)\n",
    "feat_dim = 4\n",
    "num_train = 8\n",
    "\n",
    "w = torch.randn(feat_dim+1)\n",
    "X = torch.cat((torch.ones(num_train, 1), torch.randn(num_train, feat_dim)), dim=1)\n",
    "pred = torch.mv(X, w)\n",
    "target = torch.randn(num_train)\n",
    "\n",
    "grad_w_1 = torch.zeros(5)\n",
    "for iii in range(num_train):\n",
    "    grad_w_1 = grad_w_1+(target[iii]-pred[iii])*(-X[iii])\n",
    "\n",
    "\n",
    "grad_w_2 = -torch.mv(X.t(), target-pred)\n",
    "\n",
    "# both w_2 and w_1 are equivalent, but the second is much more efficient - uses matrix multiplication\n",
    "\n",
    "print('Weight:', w)\n",
    "print('Gradient from direct implementation:', grad_w_1)\n",
    "print('Gradient from matrix multiplication:', grad_w_2)\n",
    "print('Weight shape:', w.shape)\n",
    "print('Gradient shape:', grad_w_1.shape, grad_w_2.shape)"
   ]
  },
  {
   "cell_type": "markdown",
   "metadata": {
    "id": "3K7F9U0FsXJ8"
   },
   "source": [
    "Then the code for gradient descent is similar to before"
   ]
  },
  {
   "cell_type": "code",
   "execution_count": 12,
   "metadata": {
    "colab": {
     "base_uri": "https://localhost:8080/"
    },
    "id": "SjhJ2zijsXJ8",
    "outputId": "82e6261c-a0b9-4702-be17-2dbac55abd43"
   },
   "outputs": [
    {
     "name": "stdout",
     "output_type": "stream",
     "text": [
      "Prediction: tensor([-0.8752,  5.0945,  3.4886,  2.2990, -0.3735,  1.1027,  4.2928, -0.3772])\n",
      "Target: tensor([-1.3986,  0.9398,  0.7748,  0.1919,  1.2638, -1.2904, -0.7911, -0.0209])\n",
      "Difference before training: tensor([ 0.5234,  4.1547,  2.7138,  2.1071, -1.6372,  2.3932,  5.0839, -0.3563])\n",
      "Prediction: tensor([-0.8118,  0.5724,  0.9977,  0.1497,  0.1355, -0.6792, -0.6944, -0.1756])\n",
      "Target: tensor([-1.3986,  0.9398,  0.7748,  0.1919,  1.2638, -1.2904, -0.7911, -0.0209])\n",
      "Difference after training: tensor([ 0.5868, -0.3674,  0.2228, -0.0421, -1.1283,  0.6112,  0.0967, -0.1547])\n"
     ]
    }
   ],
   "source": [
    "pred = torch.mv(X, w)\n",
    "print('Prediction:', pred)\n",
    "print('Target:', target)\n",
    "print('Difference before training:', pred-target)\n",
    "num_iter = 1000\n",
    "alpha = 1e-3\n",
    "\n",
    "for _ in range(num_iter):\n",
    "    pred = torch.mv(X, w)\n",
    "    grad_w = -torch.mv(X.t(), target-pred)\n",
    "    w = w - alpha*grad_w\n",
    "\n",
    "pred = torch.mv(X, w)\n",
    "print('Prediction:', pred)\n",
    "print('Target:', target)\n",
    "print('Difference after training:', pred-target)"
   ]
  },
  {
   "cell_type": "markdown",
   "metadata": {
    "id": "TB6fXwZXsXJ8"
   },
   "source": [
    "Not so good as before, as these data points cannot be fitted by single line\n",
    "\n",
    "But in general, we managed to reduce the errors"
   ]
  },
  {
   "cell_type": "markdown",
   "metadata": {
    "id": "sio6EW0zsXJ8"
   },
   "source": [
    "## Perceptron in PyTorch\n",
    "\n",
    "Based on our previous implementation of Adaline, we can also easily implement Perceptron in PyTorch, as we only need to add a step function in the final"
   ]
  },
  {
   "cell_type": "code",
   "execution_count": 13,
   "metadata": {
    "colab": {
     "base_uri": "https://localhost:8080/"
    },
    "id": "eUrEe7yKsXJ8",
    "outputId": "5176dfba-f8bf-4403-8ba3-09a57ad16272"
   },
   "outputs": [
    {
     "name": "stdout",
     "output_type": "stream",
     "text": [
      "Prediction of Perceptron: tensor([False,  True,  True,  True, False,  True,  True, False])\n"
     ]
    }
   ],
   "source": [
    "torch.manual_seed(0)\n",
    "num_train = 8\n",
    "feat_dim = 4\n",
    "threshold = 0\n",
    "w = torch.randn(feat_dim+1)\n",
    "X = torch.cat((torch.ones(num_train, 1), torch.randn(num_train, feat_dim)), dim=1)\n",
    "pred = torch.mv(X, w)>threshold\n",
    "print('Prediction of Perceptron:', pred)"
   ]
  },
  {
   "cell_type": "markdown",
   "metadata": {
    "id": "vofiO9gSsXJ8"
   },
   "source": [
    "## Optimization Trajectory of Gradient Descent\n",
    "\n",
    "Recall the figures in lecture that visualizes the dynamics of gradient descent\n",
    "\n",
    "Now we see how these figures are actually plotted"
   ]
  },
  {
   "cell_type": "code",
   "execution_count": null,
   "metadata": {
    "id": "rVavDwg2sXJ8"
   },
   "outputs": [],
   "source": [
    "import numpy as np\n",
    "import matplotlib.pyplot as plt\n",
    "from scipy.optimize import minimize, line_search\n",
    "\n",
    "torch.manual_seed(0)\n",
    "num_train = 8\n",
    "w_gt = torch.rand(2)\n",
    "X = torch.randn(num_train, 2)\n",
    "target = torch.mv(X, w_gt)\n",
    "\n",
    "def adaline_vectorized(w0, w1):\n",
    "    f = torch.zeros_like(w0)\n",
    "    for iii in range(num_train):\n",
    "        f = f + 1/2*(X[iii,0]*w0+X[iii,1]*w1-target[iii])*(X[iii,0]*w0+X[iii,1]*w1-target[iii])\n",
    "    return f\n",
    "\n",
    "def gradient_descent(X, target, stepsize):\n",
    "    torch.manual_seed(1)\n",
    "    x_i, y_i = torch.rand(2)*5\n",
    "    all_x_i = list()\n",
    "    all_y_i = list()\n",
    "\n",
    "    for i in range(1, 100):\n",
    "        all_x_i.append(x_i.item())\n",
    "        all_y_i.append(y_i.item())\n",
    "        pred = torch.sum(X[:,0]*x_i+X[:,1]*y_i)\n",
    "        dx_i = torch.sum(X[:,0]*(X[:,0]*x_i+X[:,1]*y_i-target))\n",
    "        dy_i = torch.sum(X[:,1]*(X[:,0]*x_i+X[:,1]*y_i-target))\n",
    "        x_i += - stepsize*dx_i\n",
    "        y_i += - stepsize*dy_i\n",
    "    ttl = 'step size {:0.3f}'.format(stepsize)\n",
    "\n",
    "    nsteps = 20\n",
    "    plt.scatter(all_x_i[:nsteps], all_y_i[:nsteps])\n",
    "    plt.plot(all_x_i[:nsteps], all_y_i[:nsteps])\n",
    "    plt.title(ttl)\n",
    "    plt.tight_layout()\n",
    "    plt.show()"
   ]
  },
  {
   "cell_type": "code",
   "execution_count": null,
   "metadata": {
    "colab": {
     "base_uri": "https://localhost:8080/",
     "height": 1000
    },
    "id": "vvRzGxaesXJ8",
    "outputId": "6d1872bf-11be-4638-904f-05676f29cb4b"
   },
   "outputs": [
    {
     "data": {
      "image/png": "[encoded data removed]",
      "text/plain": [
       "<Figure size 640x480 with 1 Axes>"
      ]
     },
     "metadata": {},
     "output_type": "display_data"
    },
    {
     "data": {
      "image/png": "[encoded data removed]",
      "text/plain": [
       "<Figure size 640x480 with 1 Axes>"
      ]
     },
     "metadata": {},
     "output_type": "display_data"
    },
    {
     "data": {
      "image/png": "[encoded data removed]",
      "text/plain": [
       "<Figure size 640x480 with 1 Axes>"
      ]
     },
     "metadata": {},
     "output_type": "display_data"
    }
   ],
   "source": [
    "w1 = np.arange(-7.5, 7.5, 0.1)\n",
    "w2 = np.arange(-7.5, 7.5, 0.1)\n",
    "w = np.meshgrid(w1, w2)\n",
    "z = adaline_vectorized(torch.as_tensor(w[0]), torch.as_tensor(w[1]))\n",
    "\n",
    "plt.figure()\n",
    "step_sizes = [1e-2, 1e-1, 1]\n",
    "for i, step in enumerate(step_sizes):\n",
    "    plt.contour(w1, w2, z)\n",
    "    plt.plot(w_gt[0], w_gt[1], 'go', markersize=10)\n",
    "    gradient_descent(X, target, step)"
   ]
  },
  {
   "cell_type": "markdown",
   "metadata": {
    "id": "m7Zppf5gsXJ8"
   },
   "source": [
    "## MLP"
   ]
  },
  {
   "cell_type": "markdown",
   "metadata": {
    "id": "_Iw1abyCsXJ8"
   },
   "source": [
    "### Another way to implement Adaline\n",
    "\n",
    "Before introducing MLP, we introduce the third way to implement Adaline by PyTorch's nn API"
   ]
  },
  {
   "cell_type": "code",
   "execution_count": 14,
   "metadata": {
    "colab": {
     "base_uri": "https://localhost:8080/"
    },
    "id": "9es1g_4gsXJ8",
    "outputId": "208965d1-f7ea-4c39-fcf5-4856d7c55451"
   },
   "outputs": [
    {
     "name": "stdout",
     "output_type": "stream",
     "text": [
      "Parameter containing:\n",
      "tensor([[-0.0037,  0.2682, -0.4115, -0.3680]], requires_grad=True) Parameter containing:\n",
      "tensor([-0.1926], requires_grad=True)\n"
     ]
    }
   ],
   "source": [
    "torch.manual_seed(0)\n",
    "Adaline = nn.Sequential(nn.Linear(4, 1)) # Initialized to be sequential layers (in this case, we are adding a single linear layer)\n",
    "print(Adaline[0].weight, Adaline[0].bias)"
   ]
  },
  {
   "cell_type": "markdown",
   "metadata": {
    "id": "7kDAtplOsXJ8"
   },
   "source": [
    "Then we do not need to consider the additional bias term, as it is already included"
   ]
  },
  {
   "cell_type": "code",
   "execution_count": null,
   "metadata": {
    "colab": {
     "base_uri": "https://localhost:8080/"
    },
    "id": "4T54RpgysXJ8",
    "outputId": "89df1119-fe0e-4e6c-e36e-265ffb2eb26e"
   },
   "outputs": [
    {
     "name": "stdout",
     "output_type": "stream",
     "text": [
      "Prediction from nn API: tensor([[ 0.7216],\n",
      "        [ 0.0541],\n",
      "        [ 0.5882],\n",
      "        [-0.3144],\n",
      "        [-1.2131],\n",
      "        [ 0.0245],\n",
      "        [ 0.0596],\n",
      "        [ 0.0909]], grad_fn=<AddmmBackward0>)\n",
      "Prediction from manual computation: tensor([ 0.7216,  0.0541,  0.5882, -0.3144, -1.2131,  0.0245,  0.0596,  0.0909],\n",
      "       grad_fn=<AddBackward0>)\n",
      "Prediction shape: torch.Size([8, 1]) torch.Size([8])\n"
     ]
    }
   ],
   "source": [
    "X = torch.randn(num_train, feat_dim)\n",
    "pred_1 = Adaline(X) # call it directly for easy use\n",
    "pred_2 = torch.mv(X, Adaline[0].weight[0])+Adaline[0].bias[0]\n",
    "\n",
    "print('Prediction from nn API:', pred_1)\n",
    "print('Prediction from manual computation:', pred_2)\n",
    "print('Prediction shape:', pred_1.shape, pred_2.shape)"
   ]
  },
  {
   "cell_type": "markdown",
   "metadata": {
    "id": "5YZLosVesXJ8"
   },
   "source": [
    "Some of you may note the additional \"requires_grad\" and \"grad_fn\": what are they?\n",
    "\n",
    "You could guess from this abbreviation that they are both related to gradient (\"grad\").\n",
    "It actually enables us to directly compute the objective gradient by PyTorch, instead of doing it all by ourselves like before.\n",
    "\n",
    "You will learn these (called \"auto-differentiation\") in later tutorials, so we may just skip it now.\n",
    "If you are interested and would like to learn in advance, the [PyTorch tutorial](https://pytorch.org/tutorials/) could be a good start"
   ]
  },
  {
   "cell_type": "markdown",
   "metadata": {
    "id": "yhbopxoDsXJ8"
   },
   "source": [
    "### Implementing MLP\n",
    "Now we are ready to implement MLP. Recall that basically MLP is matrix multiplication plus nonlinear activation\n",
    "- Without the nonlinear activation, multiplying these weights together will give us exactly the same as a single layer (i.e. Adaline)\n",
    "\n",
    "PyTorch also provides us simple ways to add usual activation functions. For example, for ReLU activation ($\\text{ReLU}(x)=\\max(x,0)$), we only need an additional line:"
   ]
  },
  {
   "cell_type": "code",
   "execution_count": 15,
   "metadata": {
    "id": "pjGV1cR9sXJ8"
   },
   "outputs": [],
   "source": [
    "torch.manual_seed(0)\n",
    "MLP_relu = nn.Sequential(nn.Linear(4,16),\n",
    "                      nn.ReLU(),\n",
    "                      nn.Linear(16,1))\n",
    "# Here, we have a RelU between the two linear functions"
   ]
  },
  {
   "cell_type": "code",
   "execution_count": null,
   "metadata": {
    "colab": {
     "base_uri": "https://localhost:8080/"
    },
    "id": "l_WflqMTsXJ9",
    "outputId": "fc0e720c-cff9-4af8-b402-29f9b3779648"
   },
   "outputs": [
    {
     "name": "stdout",
     "output_type": "stream",
     "text": [
      "torch.Size([16, 4]) torch.Size([16]) torch.Size([1, 16]) torch.Size([1])\n"
     ]
    }
   ],
   "source": [
    "print(MLP_relu[0].weight.shape, MLP_relu[0].bias.shape, MLP_relu[2].weight.shape, MLP_relu[2].bias.shape)"
   ]
  },
  {
   "cell_type": "code",
   "execution_count": null,
   "metadata": {
    "colab": {
     "base_uri": "https://localhost:8080/"
    },
    "id": "KCUYTmPHsXJ9",
    "outputId": "421de8f3-4f02-4647-942f-1301d8567684"
   },
   "outputs": [
    {
     "name": "stdout",
     "output_type": "stream",
     "text": [
      "tensor([[-0.3242],\n",
      "        [ 0.0026],\n",
      "        [-0.0416],\n",
      "        [ 0.1356],\n",
      "        [ 0.3286],\n",
      "        [-0.0198],\n",
      "        [-0.1279],\n",
      "        [-0.1684]], grad_fn=<AddmmBackward0>)\n"
     ]
    }
   ],
   "source": [
    "pred_relu = MLP_relu(X)\n",
    "print(pred_relu)"
   ]
  },
  {
   "cell_type": "markdown",
   "metadata": {
    "id": "Pr1sqstSsXJ9"
   },
   "source": [
    "PyTorch also has many other types of activation functions.\n",
    "\n",
    "Another example: sigmoid function $\\text{Sigmoid}(x)=\\frac{1}{1+\\exp(-x)}$"
   ]
  },
  {
   "cell_type": "code",
   "execution_count": null,
   "metadata": {
    "id": "HDr2EB09sXJ9"
   },
   "outputs": [],
   "source": [
    "MLP_sigmoid = nn.Sequential(nn.Linear(4,16),\n",
    "                      nn.Sigmoid(),\n",
    "                      nn.Linear(16,1))\n",
    "# Example of using sigmoid function as activation function"
   ]
  },
  {
   "cell_type": "markdown",
   "metadata": {
    "id": "RwfDFn8UsXJ9"
   },
   "source": [
    "We can load the weights of MLP\\_relu to MLP\\_sigmoid. With different activation functions, their prediction is different even with the same weights"
   ]
  },
  {
   "cell_type": "code",
   "execution_count": null,
   "metadata": {
    "colab": {
     "base_uri": "https://localhost:8080/"
    },
    "id": "8UWwAu1fsXJ9",
    "outputId": "a069777a-f53a-421f-fbb5-9e9776e4bf48"
   },
   "outputs": [
    {
     "name": "stdout",
     "output_type": "stream",
     "text": [
      "tensor([[-0.1349],\n",
      "        [ 0.0114],\n",
      "        [-0.0164],\n",
      "        [ 0.1028],\n",
      "        [ 0.1646],\n",
      "        [ 0.0606],\n",
      "        [-0.0102],\n",
      "        [ 0.0517]], grad_fn=<AddmmBackward0>)\n"
     ]
    }
   ],
   "source": [
    "MLP_sigmoid[0].weight = MLP_relu[0].weight\n",
    "MLP_sigmoid[0].bias = MLP_relu[0].bias\n",
    "MLP_sigmoid[2].weight = MLP_relu[2].weight\n",
    "MLP_sigmoid[2].bias = MLP_relu[2].bias\n",
    "pred_sigmoid = MLP_sigmoid(X)\n",
    "print(pred_sigmoid)"
   ]
  },
  {
   "cell_type": "markdown",
   "metadata": {
    "id": "I9M_jES-sXJ9"
   },
   "source": [
    "We can also make the MLP arbitrary deep, as long as you make sure you have enough memory"
   ]
  },
  {
   "cell_type": "code",
   "execution_count": null,
   "metadata": {
    "id": "4y7qWJDksXJ9"
   },
   "outputs": [],
   "source": [
    "torch.manual_seed(0)\n",
    "MLP_deep = nn.Sequential(nn.Linear(4,128),\n",
    "                      nn.ReLU(),\n",
    "                      nn.Linear(128,32),\n",
    "                      nn.ReLU(),\n",
    "                      nn.Linear(32,32),\n",
    "                      nn.ReLU(),\n",
    "                      nn.Linear(32,8),\n",
    "                      nn.ReLU(),\n",
    "                      nn.Linear(8,8),\n",
    "                      nn.ReLU(),\n",
    "                      nn.Linear(8,1))"
   ]
  },
  {
   "cell_type": "code",
   "execution_count": null,
   "metadata": {
    "colab": {
     "base_uri": "https://localhost:8080/"
    },
    "id": "_1aIYd8_sXJ9",
    "outputId": "8e313138-e83a-4580-cb9a-6ea7e5612f82"
   },
   "outputs": [
    {
     "name": "stdout",
     "output_type": "stream",
     "text": [
      "tensor([[-0.1108],\n",
      "        [-0.1080],\n",
      "        [-0.1069],\n",
      "        [-0.1137],\n",
      "        [-0.1179],\n",
      "        [-0.1077],\n",
      "        [-0.1149],\n",
      "        [-0.1153]], grad_fn=<AddmmBackward0>)\n"
     ]
    }
   ],
   "source": [
    "pred_deep = MLP_deep(X)\n",
    "print(pred_deep)"
   ]
  },
  {
   "cell_type": "markdown",
   "metadata": {
    "id": "1auuMfNJsXJ9"
   },
   "source": [
    "Since you have not learned how to compute the gradient for MLP for now, we will not cover it in today's tutorial. (You will also learn it soon)\n",
    "\n",
    "But there are several things you can do if you feel interested:\n",
    "- Mathematically deduce the gradient expression for MLP"
   ]
  },
  {
   "cell_type": "markdown",
   "metadata": {
    "id": "L0P9h5YQsXJ-"
   },
   "source": [
    "## Beyond one-dimensional output: multi-class classification\n",
    "\n",
    "We have assumed the output is simply a number in previous cases.\n",
    "\n",
    "Question: can all problems be solved like this?\n",
    "\n",
    "Answer: No.\n",
    "\n",
    "Examples: multi-class classification problems\n",
    "- (Image classification) Given an image of written latin letter, predict which latin letter it is (A-Z, a-z)\n",
    "- (Recommendation) Given user information, predict which types of items he/she is most likely to purchase\n",
    "\n",
    "Many things become different for such problem:\n",
    "- Target\n",
    "- Prediction\n",
    "- Training objective"
   ]
  },
  {
   "cell_type": "markdown",
   "metadata": {
    "id": "CUpgW6-8sXJ-"
   },
   "source": [
    "### Target for multi-class classification\n",
    "Suppose there are C>1 different classes, a naive definition for target is a integer from 1 to C\n",
    "\n",
    "What are the problems?\n",
    "- Implicit assumption on their relative order $1, 2, \\dots, C$\n",
    "\n",
    "Instead, we have to use a special kind of vector called one-hot vector\n",
    "- \"One-hot\" means only one of its element is nonzero\n",
    "\n",
    "PyTorch provides us efficient way to transform integer into one-hot vectors"
   ]
  },
  {
   "cell_type": "code",
   "execution_count": null,
   "metadata": {
    "colab": {
     "base_uri": "https://localhost:8080/"
    },
    "id": "RfxuOINJsXJ-",
    "outputId": "93ba7558-6f6d-482b-ea64-bf876b80e4bd"
   },
   "outputs": [
    {
     "name": "stdout",
     "output_type": "stream",
     "text": [
      "Integer example: tensor([0, 3, 1, 0, 3, 3, 3, 3])\n",
      "One-hot example: tensor([[1, 0, 0, 0],\n",
      "        [0, 0, 0, 1],\n",
      "        [0, 1, 0, 0],\n",
      "        [1, 0, 0, 0],\n",
      "        [0, 0, 0, 1],\n",
      "        [0, 0, 0, 1],\n",
      "        [0, 0, 0, 1],\n",
      "        [0, 0, 0, 1]])\n"
     ]
    }
   ],
   "source": [
    "import torch.nn.functional as F\n",
    "\n",
    "torch.manual_seed(0)\n",
    "\n",
    "integer_target = torch.randint(4, (num_train,))\n",
    "one_hot_target = F.one_hot(integer_target)\n",
    "print('Integer example:', integer_target)\n",
    "print('One-hot example:', one_hot_target)"
   ]
  },
  {
   "cell_type": "markdown",
   "metadata": {
    "id": "TM7Oim5lsXJ-"
   },
   "source": [
    "Note that PyTorch index from 0\n",
    "\n",
    "The above two representations are also equivalent"
   ]
  },
  {
   "cell_type": "markdown",
   "metadata": {
    "id": "BiigrNUusXJ-"
   },
   "source": [
    "### Prediction for multi-class classification and Softmax operation\n",
    "\n",
    "By similar reasons, the output of our model should also be a C-dimension vector"
   ]
  },
  {
   "cell_type": "code",
   "execution_count": null,
   "metadata": {
    "colab": {
     "base_uri": "https://localhost:8080/"
    },
    "id": "cgjJ7MgVsXJ-",
    "outputId": "7c19dc52-20f2-432c-c2ec-c17d4bbc3531"
   },
   "outputs": [
    {
     "name": "stdout",
     "output_type": "stream",
     "text": [
      "torch.Size([8, 4]) tensor([-0.6736, -0.0916, -0.1709, -0.0207], grad_fn=<SelectBackward0>)\n"
     ]
    }
   ],
   "source": [
    "torch.manual_seed(0)\n",
    "clf = nn.Sequential(nn.Linear(4,16),\n",
    "                      nn.ReLU(),\n",
    "                      nn.Linear(16,4))\n",
    "\n",
    "pred = clf(X)\n",
    "print(pred.shape, pred[0])"
   ]
  },
  {
   "cell_type": "markdown",
   "metadata": {
    "id": "6eMIWQgEsXJ-"
   },
   "source": [
    "Intuitively, we can choose the class with largest element as the final prediction.\n",
    "\n",
    "But these causes some difficulties as we need to deal with discrete objects.\n",
    "\n",
    "So in practice, we consider transform the prediction to a vector whose elements sum to 1 (same as the one-hot vector), and treat each element of this vector as the *probability* for each class.\n",
    "\n",
    "That is done by __Softmax__\n",
    "\n",
    "Definition: given a vector $\\vec{u}=(u_1, \\dots, u_C)$, __Softmax__ operation will output a vector $\\vec{v}$ with the same number of elements and each element given by:\n",
    "$$v_i=\\frac{\\exp(u_i)}{\\sum_{j=1}^C \\exp(u_j)}, i=1, \\dots, C$$\n",
    "We can easily verify that:\n",
    "- All elements of $\\vec{v}$ is non-negative\n",
    "- The sum of these elements is exactly 1, as we have\n",
    "$$\\sum_{i=1}^C v_i = \\frac{\\sum_{i=1}^C \\exp(u_i)}{\\sum_{j=1}^C \\exp(u_j)} = 1$$\n",
    "- From the above two properties, we can further deduce that all elements of $\\vec{v}$ are between 0 and 1\n",
    "\n",
    "And PyTorch provides us simple way to calculate $\\vec{v}$ from $\\vec{u}$"
   ]
  },
  {
   "cell_type": "code",
   "execution_count": null,
   "metadata": {
    "colab": {
     "base_uri": "https://localhost:8080/"
    },
    "id": "Tm0_YbeMsXJ-",
    "outputId": "985a7778-c8e9-4d21-b859-fb03fb53c627"
   },
   "outputs": [
    {
     "name": "stdout",
     "output_type": "stream",
     "text": [
      "tensor([0.1571, 0.2812, 0.2598, 0.3019], grad_fn=<SoftmaxBackward0>) tensor(1., grad_fn=<SumBackward1>)\n"
     ]
    }
   ],
   "source": [
    "softmax_pred_0 = F.softmax(pred[0], dim=0)\n",
    "print(softmax_pred_0, torch.sum(softmax_pred_0, dim=0))"
   ]
  },
  {
   "cell_type": "markdown",
   "metadata": {
    "id": "Rj0naprpsXJ-"
   },
   "source": [
    "We may also want to compute the result for all training data. In such case, we need to specify the dim parameter"
   ]
  },
  {
   "cell_type": "code",
   "execution_count": null,
   "metadata": {
    "colab": {
     "base_uri": "https://localhost:8080/"
    },
    "id": "EoNAXzXEsXJ-",
    "outputId": "ebc16ccf-0618-41e8-f9f0-5f77dbbc3bab"
   },
   "outputs": [
    {
     "name": "stdout",
     "output_type": "stream",
     "text": [
      "torch.Size([8, 4]) tensor([1., 1., 1., 1., 1., 1., 1., 1.], grad_fn=<SumBackward1>)\n"
     ]
    }
   ],
   "source": [
    "softmax_pred = F.softmax(pred, dim=1)\n",
    "print(softmax_pred.shape, torch.sum(softmax_pred, dim=1))"
   ]
  },
  {
   "cell_type": "markdown",
   "metadata": {
    "id": "vYgYChi2sXJ-"
   },
   "source": [
    "### Objective: cross entropy loss\n",
    "\n",
    "To optimize the model, we need to define a objective between the prediction and target\n",
    "\n",
    "A simple is to use square loss. Nevertheless, this approach does not consider the meaning of model outputs.\n",
    "\n",
    "Instead, for classification task, we often use another loss called cross-entropy (CE) loss.\n",
    "\n",
    "Suppose the target is a one-hot vector $\\vec{t}$ with $t_k=1$, and the model prediction is denoted as $\\vec{v}$ as above, then the cross-entropy loss is defined as:\n",
    "$$L_{\\text{CE}}(\\vec{v}, \\vec{t}) = -\\sum_{j=1}^C t_j \\log(v_j) = -\\log(v_k)$$\n",
    "Since all elements of $\\vec{v}$ are between 0 and 1, we must always have $\\log(v_j)<0$, therefore the objective is always non-negative.\n",
    "\n",
    "And we have $L_{\\text{CE}}(\\vec{v}, \\vec{t}) = 0$ if and only if $v_k=1$ (and $\\vec{v}=\\vec{t}$)\n",
    "\n",
    "To calculate the cross-entropy loss, PyTorch also provides us a function"
   ]
  },
  {
   "cell_type": "code",
   "execution_count": null,
   "metadata": {
    "id": "NZ4v1XfusXJ-"
   },
   "outputs": [],
   "source": [
    "L_CE_1 = F.cross_entropy(pred, integer_target, reduction='none')"
   ]
  },
  {
   "cell_type": "markdown",
   "metadata": {
    "id": "_XUJVVJKsXJ-"
   },
   "source": [
    "Note that PyTorch computes the cross entropy directly from the raw output and integer target.\n",
    "\n",
    "We can also try computing the objective in our own"
   ]
  },
  {
   "cell_type": "code",
   "execution_count": null,
   "metadata": {
    "colab": {
     "base_uri": "https://localhost:8080/"
    },
    "id": "V_y7yA70sXJ-",
    "outputId": "c7fc4d06-e9d7-4657-f0cf-ba979bdf5f33"
   },
   "outputs": [
    {
     "name": "stdout",
     "output_type": "stream",
     "text": [
      "Cross entropy loss computed by PyTorch: tensor([1.8506, 1.4662, 1.0446, 1.5831, 0.8677, 1.4915, 1.6922, 1.7017],\n",
      "       grad_fn=<NllLossBackward0>)\n",
      "Croos entropy loss computed by ourselves: tensor([1.8506, 1.4662, 1.0446, 1.5831, 0.8677, 1.4915, 1.6922, 1.7017],\n",
      "       grad_fn=<NegBackward0>)\n"
     ]
    }
   ],
   "source": [
    "L_CE_2 = -torch.sum(torch.log(softmax_pred)*one_hot_target, dim=1)\n",
    "\n",
    "print('Cross entropy loss computed by PyTorch:', L_CE_1)\n",
    "print('Croos entropy loss computed by ourselves:', L_CE_2)"
   ]
  },
  {
   "cell_type": "markdown",
   "metadata": {
    "id": "Yb4m3AfisXJ-"
   },
   "source": [
    "We see that they are exactly the same"
   ]
  },
  {
   "cell_type": "markdown",
   "metadata": {
    "id": "pc2e2B0fi_yw"
   },
   "source": [
    "# Automatic Differentiation with ``torch.autograd``\n",
    "\n",
    "When training neural networks, the most frequently used algorithm is\n",
    "**back propagation**. In this algorithm, parameters (model weights) are\n",
    "adjusted according to the **gradient** of the loss function with respect\n",
    "to the given parameter.\n",
    "\n",
    "To compute those gradients, PyTorch has a built-in differentiation engine\n",
    "called ``torch.autograd``. It supports automatic computation of gradient for any\n",
    "computational graph.\n",
    "\n",
    "Consider the simplest one-layer neural network, with input ``x``,\n",
    "parameters ``w`` and ``b``, and some loss function. It can be defined in\n",
    "PyTorch in the following manner:"
   ]
  },
  {
   "cell_type": "code",
   "execution_count": 16,
   "metadata": {
    "id": "RsirMuhpjUDP"
   },
   "outputs": [],
   "source": [
    "import torch\n",
    "\n",
    "x = torch.ones(5)  # input tensor\n",
    "y = torch.zeros(3)  # expected output\n",
    "w = torch.randn(5, 3, requires_grad=True)\n",
    "b = torch.randn(3, requires_grad=True)\n",
    "z = torch.matmul(x, w)+b\n",
    "loss = torch.nn.functional.binary_cross_entropy_with_logits(z, y)"
   ]
  },
  {
   "cell_type": "markdown",
   "metadata": {
    "id": "KxZ1_5JcjZTR"
   },
   "source": [
    "## Tensors, Functions and Computational graph\n",
    "\n",
    "This code defines the following **computational graph**:\n",
    "\n",
    "![image.png](data:image/png;base64,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)\n",
    "\n",
    "In this network, ``w`` and ``b`` are **parameters**, which we need to\n",
    "optimize. Thus, we need to be able to compute the gradients of loss\n",
    "function with respect to those variables. In order to do that, we set\n",
    "the ``requires_grad`` property of those tensors.\n",
    "\n"
   ]
  },
  {
   "cell_type": "markdown",
   "metadata": {
    "id": "Tn11z7gjjww6"
   },
   "source": [
    "<div class=\"alert alert-info\"><h4>Note</h4><p>You can set the value of ``requires_grad`` when creating a\n",
    "          tensor, or later by using ``x.requires_grad_(True)`` method.</p></div>\n",
    "\n"
   ]
  },
  {
   "cell_type": "markdown",
   "metadata": {
    "id": "86TP0YMKj1pQ"
   },
   "source": [
    "A function that we apply to tensors to construct computational graph is\n",
    "in fact an object of class ``Function``. This object knows how to\n",
    "compute the function in the *forward* direction, and also how to compute\n",
    "its derivative during the *backward propagation* step. A reference to\n",
    "the backward propagation function is stored in ``grad_fn`` property of a\n",
    "tensor. You can find more information of ``Function`` [in the\n",
    "documentation](https://pytorch.org/docs/stable/autograd.html#function)_.\n",
    "\n",
    "\n"
   ]
  },
  {
   "cell_type": "code",
   "execution_count": 17,
   "metadata": {
    "id": "ZgEUUQVCkGlV"
   },
   "outputs": [
    {
     "name": "stdout",
     "output_type": "stream",
     "text": [
      "Gradient function for z = <AddBackward0 object at 0x13fdc7be0>\n",
      "Gradient function for loss = <BinaryCrossEntropyWithLogitsBackward0 object at 0x13fdc6ec0>\n"
     ]
    }
   ],
   "source": [
    "print(f\"Gradient function for z = {z.grad_fn}\")\n",
    "print(f\"Gradient function for loss = {loss.grad_fn}\")"
   ]
  },
  {
   "cell_type": "markdown",
   "metadata": {
    "id": "iHEz6VMNkFKL"
   },
   "source": [
    "## Computing Gradients\n",
    "\n",
    "To optimize weights of parameters in the neural network, we need to\n",
    "compute the derivatives of our loss function with respect to parameters,\n",
    "namely, we need $\\frac{\\partial loss}{\\partial w}$ and\n",
    "$\\frac{\\partial loss}{\\partial b}$ under some fixed values of\n",
    "``x`` and ``y``. To compute those derivatives, we call\n",
    "``loss.backward()``, and then retrieve the values from ``w.grad`` and\n",
    "``b.grad``:\n",
    "\n",
    "\n"
   ]
  },
  {
   "cell_type": "code",
   "execution_count": 18,
   "metadata": {
    "id": "FmrecLSgmqjS"
   },
   "outputs": [
    {
     "name": "stdout",
     "output_type": "stream",
     "text": [
      "tensor([[0.0056, 0.3159, 0.0166],\n",
      "        [0.0056, 0.3159, 0.0166],\n",
      "        [0.0056, 0.3159, 0.0166],\n",
      "        [0.0056, 0.3159, 0.0166],\n",
      "        [0.0056, 0.3159, 0.0166]])\n",
      "tensor([0.0056, 0.3159, 0.0166])\n"
     ]
    }
   ],
   "source": [
    "loss.backward()\n",
    "print(w.grad)\n",
    "print(b.grad)"
   ]
  },
  {
   "cell_type": "markdown",
   "metadata": {
    "id": "dx-DzaXNkDBD"
   },
   "source": [
    "<div class=\"alert alert-info\"><h4>Note</h4><p>- We can only obtain the ``grad`` properties for the leaf\n",
    "    nodes of the computational graph, which have ``requires_grad`` property\n",
    "    set to ``True``. For all other nodes in our graph, gradients will not be\n",
    "    available.\n",
    "  - We can only perform gradient calculations using\n",
    "    ``backward`` once on a given graph, for performance reasons. If we need\n",
    "    to do several ``backward`` calls on the same graph, we need to pass\n",
    "    ``retain_graph=True`` to the ``backward`` call.</p></div>\n",
    "\n",
    "\n"
   ]
  },
  {
   "cell_type": "markdown",
   "metadata": {
    "id": "kR04JeaAmwAu"
   },
   "source": [
    "## Disabling Gradient Tracking\n",
    "\n",
    "By default, all tensors with ``requires_grad=True`` are tracking their\n",
    "computational history and support gradient computation. However, there\n",
    "are some cases when we do not need to do that, for example, when we have\n",
    "trained the model and just want to apply it to some input data, i.e. we\n",
    "only want to do *forward* computations through the network. We can stop\n",
    "tracking computations by surrounding our computation code with\n",
    "``torch.no_grad()`` block:\n",
    "\n",
    "\n"
   ]
  },
  {
   "cell_type": "code",
   "execution_count": null,
   "metadata": {
    "id": "RfQE5zEImzHJ"
   },
   "outputs": [],
   "source": [
    "z = torch.matmul(x, w)+b\n",
    "print(z.requires_grad)\n",
    "\n",
    "with torch.no_grad():\n",
    "    z = torch.matmul(x, w)+b\n",
    "print(z.requires_grad)"
   ]
  },
  {
   "cell_type": "markdown",
   "metadata": {
    "id": "daNhnhSTmzq5"
   },
   "source": [
    "Another way to achieve the same result is to use the ``detach()`` method\n",
    "on the tensor:\n",
    "\n",
    "\n"
   ]
  },
  {
   "cell_type": "code",
   "execution_count": null,
   "metadata": {
    "id": "MRPFpikbm2lT"
   },
   "outputs": [],
   "source": [
    "z = torch.matmul(x, w)+b\n",
    "z_det = z.detach()\n",
    "print(z_det.requires_grad)"
   ]
  },
  {
   "cell_type": "markdown",
   "metadata": {
    "id": "gRP0uzXQm29a"
   },
   "source": [
    "There are reasons you might want to disable gradient tracking:\n",
    "  - To mark some parameters in your neural network as **frozen parameters**.\n",
    "  - To **speed up computations** when you are only doing forward pass, because computations on tensors that do\n",
    "    not track gradients would be more efficient.\n",
    "\n"
   ]
  },
  {
   "cell_type": "markdown",
   "metadata": {
    "id": "ynUZL7tLm8QJ"
   },
   "source": [
    "## More on Computational Graphs\n",
    "Conceptually, autograd keeps a record of data (tensors) and all executed\n",
    "operations (along with the resulting new tensors) in a directed acyclic\n",
    "graph (DAG) consisting of\n",
    "[Function](https://pytorch.org/docs/stable/autograd.html#torch.autograd.Function)_\n",
    "objects. In this DAG, leaves are the input tensors, roots are the output\n",
    "tensors. By tracing this graph from roots to leaves, you can\n",
    "automatically compute the gradients using the chain rule.\n",
    "\n",
    "In a forward pass, autograd does two things simultaneously:\n",
    "\n",
    "- run the requested operation to compute a resulting tensor\n",
    "- maintain the operation’s *gradient function* in the DAG.\n",
    "\n",
    "The backward pass kicks off when ``.backward()`` is called on the DAG\n",
    "root. ``autograd`` then:\n",
    "\n",
    "- computes the gradients from each ``.grad_fn``,\n",
    "- accumulates them in the respective tensor’s ``.grad`` attribute\n",
    "- using the chain rule, propagates all the way to the leaf tensors.\n",
    "\n",
    "<div class=\"alert alert-info\"><h4>Note</h4><p>**DAGs are dynamic in PyTorch**\n",
    "  An important thing to note is that the graph is recreated from scratch; after each\n",
    "  ``.backward()`` call, autograd starts populating a new graph. This is\n",
    "  exactly what allows you to use control flow statements in your model;\n",
    "  you can change the shape, size and operations at every iteration if\n",
    "  needed.</p></div>\n",
    "\n"
   ]
  },
  {
   "cell_type": "markdown",
   "metadata": {
    "id": "b934sqCKnQ2Q"
   },
   "source": [
    "## Optional Reading: Tensor Gradients and Jacobian Products\n",
    "\n",
    "In many cases, we have a scalar loss function, and we need to compute\n",
    "the gradient with respect to some parameters. However, there are cases\n",
    "when the output function is an arbitrary tensor. In this case, PyTorch\n",
    "allows you to compute so-called **Jacobian product**, and not the actual\n",
    "gradient.\n",
    "\n",
    "For a vector function $\\vec{y}=f(\\vec{x})$, where\n",
    "$\\vec{x}=\\langle x_1,\\dots,x_n\\rangle$ and\n",
    "$\\vec{y}=\\langle y_1,\\dots,y_m\\rangle$, a gradient of\n",
    "$\\vec{y}$ with respect to $\\vec{x}$ is given by **Jacobian\n",
    "matrix**:\n",
    "\n",
    "\\begin{align}J=\\left(\\begin{array}{ccc}\n",
    "      \\frac{\\partial y_{1}}{\\partial x_{1}} & \\cdots & \\frac{\\partial y_{1}}{\\partial x_{n}}\\\\\n",
    "      \\vdots & \\ddots & \\vdots\\\\\n",
    "      \\frac{\\partial y_{m}}{\\partial x_{1}} & \\cdots & \\frac{\\partial y_{m}}{\\partial x_{n}}\n",
    "      \\end{array}\\right)\\end{align}\n",
    "\n",
    "Instead of computing the Jacobian matrix itself, PyTorch allows you to\n",
    "compute **Jacobian Product** $v^T\\cdot J$ for a given input vector\n",
    "$v=(v_1 \\dots v_m)$. This is achieved by calling ``backward`` with\n",
    "$v$ as an argument. The size of $v$ should be the same as\n",
    "the size of the original tensor, with respect to which we want to\n",
    "compute the product:\n",
    "\n",
    "\n"
   ]
  },
  {
   "cell_type": "code",
   "execution_count": null,
   "metadata": {
    "id": "Yn9ZHlGCnTRS"
   },
   "outputs": [],
   "source": [
    "inp = torch.eye(4, 5, requires_grad=True)\n",
    "out = (inp+1).pow(2).t()\n",
    "out.backward(torch.ones_like(out), retain_graph=True)\n",
    "print(f\"First call\\n{inp.grad}\")\n",
    "out.backward(torch.ones_like(out), retain_graph=True)\n",
    "print(f\"\\nSecond call\\n{inp.grad}\")\n",
    "inp.grad.zero_()\n",
    "out.backward(torch.ones_like(out), retain_graph=True)\n",
    "print(f\"\\nCall after zeroing gradients\\n{inp.grad}\")"
   ]
  },
  {
   "cell_type": "markdown",
   "metadata": {
    "id": "hJQsKGjsnU4L"
   },
   "source": [
    "Notice that when we call ``backward`` for the second time with the same\n",
    "argument, the value of the gradient is different. This happens because\n",
    "when doing ``backward`` propagation, PyTorch **accumulates the\n",
    "gradients**, i.e. the value of computed gradients is added to the\n",
    "``grad`` property of all leaf nodes of computational graph. If you want\n",
    "to compute the proper gradients, you need to zero out the ``grad``\n",
    "property before. In real-life training an *optimizer* helps us to do\n",
    "this.\n",
    "\n"
   ]
  },
  {
   "cell_type": "markdown",
   "metadata": {
    "id": "zPbL25KNnZ4k"
   },
   "source": [
    "<div class=\"alert alert-info\"><h4>Note</h4><p>Previously we were calling ``backward()`` function without\n",
    "          parameters. This is essentially equivalent to calling\n",
    "          ``backward(torch.tensor(1.0))``, which is a useful way to compute the\n",
    "          gradients in case of a scalar-valued function, such as loss during\n",
    "          neural network training.</p></div>\n",
    "\n",
    "\n"
   ]
  },
  {
   "cell_type": "markdown",
   "metadata": {
    "id": "pb20qILfnc6m"
   },
   "source": [
    "--------------\n",
    "\n",
    "\n"
   ]
  },
  {
   "cell_type": "markdown",
   "metadata": {
    "id": "zjH7-viVne6h"
   },
   "source": [
    "### Further Reading\n",
    "- [Autograd Mechanics](https://pytorch.org/docs/stable/notes/autograd.html)\n",
    "\n"
   ]
  },
  {
   "cell_type": "markdown",
   "metadata": {
    "id": "lXiCsCa-sXJ_"
   },
   "source": [
    "# Final remarks"
   ]
  },
  {
   "cell_type": "markdown",
   "metadata": {
    "id": "0yo8nVLOsXJ_"
   },
   "source": [
    "Today's introduction on PyTorch is \"mimimal\", i.e. only introduce necessary stuffs for today's tutorial\n",
    "\n",
    "For a more detailed introduction, you can refer to the [PyTorch tutorial](https://pytorch.org/tutorials/) on its website."
   ]
  },
  {
   "cell_type": "code",
   "execution_count": null,
   "metadata": {
    "id": "lK3-75zxnQVr"
   },
   "outputs": [],
   "source": []
  }
 ],
 "metadata": {
  "colab": {
   "provenance": []
  },
  "kernelspec": {
   "display_name": "Python 3 (ipykernel)",
   "language": "python",
   "name": "python3"
  },
  "language_info": {
   "codemirror_mode": {
    "name": "ipython",
    "version": 3
   },
   "file_extension": ".py",
   "mimetype": "text/x-python",
   "name": "python",
   "nbconvert_exporter": "python",
   "pygments_lexer": "ipython3",
   "version": "3.11.4"
  }
 },
 "nbformat": 4,
 "nbformat_minor": 4
}
