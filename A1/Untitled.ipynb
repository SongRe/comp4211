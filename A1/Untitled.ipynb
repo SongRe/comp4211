{
 "cells": [
  {
   "cell_type": "code",
   "execution_count": 4,
   "id": "f97639c7-d565-4876-af24-9fdc0ef1e5e2",
   "metadata": {},
   "outputs": [],
   "source": [
    "import torch\n",
    "from torch import nn\n",
    "from torch.utils.data import DataLoader, Subset\n",
    "from torchvision import datasets, transforms\n",
    "from sklearn.model_selection import train_test_split\n",
    "import matplotlib.pyplot as plt\n",
    "\n",
    "x = nn"
   ]
  },
  {
   "cell_type": "code",
   "execution_count": 11,
   "id": "e14edfc2-31bb-4bb1-9af5-41dd039f534d",
   "metadata": {},
   "outputs": [
    {
     "data": {
      "text/plain": [
       "torch.Size([16, 28, 28])"
      ]
     },
     "execution_count": 11,
     "metadata": {},
     "output_type": "execute_result"
    }
   ],
   "source": [
    "x = torch.randn(16, 28, 28)\n",
    "x.size()"
   ]
  },
  {
   "cell_type": "code",
   "execution_count": 14,
   "id": "2ead3c02-3cbc-4739-a8a7-865e5a45a671",
   "metadata": {},
   "outputs": [
    {
     "data": {
      "text/plain": [
       "torch.Size([16, 784])"
      ]
     },
     "execution_count": 14,
     "metadata": {},
     "output_type": "execute_result"
    }
   ],
   "source": [
    "dims = x.size()\n",
    "x = x.reshape(dims[0], dims[1] * dims[2])\n",
    "x.size()\n"
   ]
  },
  {
   "cell_type": "code",
   "execution_count": null,
   "id": "003c2361-459a-410f-90b2-7036b75d70be",
   "metadata": {},
   "outputs": [],
   "source": []
  }
 ],
 "metadata": {
  "kernelspec": {
   "display_name": "Python 3 (ipykernel)",
   "language": "python",
   "name": "python3"
  },
  "language_info": {
   "codemirror_mode": {
    "name": "ipython",
    "version": 3
   },
   "file_extension": ".py",
   "mimetype": "text/x-python",
   "name": "python",
   "nbconvert_exporter": "python",
   "pygments_lexer": "ipython3",
   "version": "3.11.4"
  }
 },
 "nbformat": 4,
 "nbformat_minor": 5
}
