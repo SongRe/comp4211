{
 "cells": [
  {
   "cell_type": "markdown",
   "metadata": {
    "id": "tp6TZqmBpUyN"
   },
   "source": [
    "# Introduction of Q1\n",
    "In this question, you will utilize Torch to implement a Convolutional Neural Network (CNN) for performing digital number classification. You will download the well-known 'MNIST' dataset, which consists of 70,000 images. Among these, 60,000 images are used for training, and 10,000 images are reserved for testing. Each image in the dataset has a size of 28x28 pixels and represents a digit ranging from 0 to 9.\n",
    "\n",
    "The MNIST dataset is widely used in the field of machine learning and computer vision. It serves as a benchmark for evaluating algorithms and models for image classification tasks. The goal is to correctly classify the handwritten digits into their respective categories. By implementing a CNN, which is a type of neural network specifically designed for analyzing visual data, you'll be able to effectively classify the digits in the MNIST dataset."
   ]
  },
  {
   "cell_type": "code",
   "execution_count": 1,
   "metadata": {
    "id": "bw0nuvfQTedk"
   },
   "outputs": [],
   "source": [
    "import torch\n",
    "from torch import nn\n",
    "from torch.utils.data import DataLoader, Subset\n",
    "from torchvision import datasets, transforms\n",
    "from sklearn.model_selection import train_test_split\n",
    "import matplotlib.pyplot as plt"
   ]
  },
  {
   "cell_type": "code",
   "execution_count": 2,
   "metadata": {
    "id": "o7JhScndTf45"
   },
   "outputs": [
    {
     "name": "stdout",
     "output_type": "stream",
     "text": [
      "Downloading http://yann.lecun.com/exdb/mnist/train-images-idx3-ubyte.gz\n",
      "Downloading http://yann.lecun.com/exdb/mnist/train-images-idx3-ubyte.gz to ./mnist/train/MNIST/raw/train-images-idx3-ubyte.gz\n"
     ]
    },
    {
     "name": "stderr",
     "output_type": "stream",
     "text": [
      "100.0%\n"
     ]
    },
    {
     "name": "stdout",
     "output_type": "stream",
     "text": [
      "Extracting ./mnist/train/MNIST/raw/train-images-idx3-ubyte.gz to ./mnist/train/MNIST/raw\n",
      "\n",
      "Downloading http://yann.lecun.com/exdb/mnist/train-labels-idx1-ubyte.gz\n"
     ]
    },
    {
     "name": "stderr",
     "output_type": "stream",
     "text": [
      "100.0%\n",
      "100.0%"
     ]
    },
    {
     "name": "stdout",
     "output_type": "stream",
     "text": [
      "Downloading http://yann.lecun.com/exdb/mnist/train-labels-idx1-ubyte.gz to ./mnist/train/MNIST/raw/train-labels-idx1-ubyte.gz\n",
      "Extracting ./mnist/train/MNIST/raw/train-labels-idx1-ubyte.gz to ./mnist/train/MNIST/raw\n",
      "\n",
      "Downloading http://yann.lecun.com/exdb/mnist/t10k-images-idx3-ubyte.gz\n",
      "Downloading http://yann.lecun.com/exdb/mnist/t10k-images-idx3-ubyte.gz to ./mnist/train/MNIST/raw/t10k-images-idx3-ubyte.gz\n",
      "Extracting ./mnist/train/MNIST/raw/t10k-images-idx3-ubyte.gz to ./mnist/train/MNIST/raw\n"
     ]
    },
    {
     "name": "stderr",
     "output_type": "stream",
     "text": [
      "\n",
      "100.0%\n",
      "7.6%"
     ]
    },
    {
     "name": "stdout",
     "output_type": "stream",
     "text": [
      "\n",
      "Downloading http://yann.lecun.com/exdb/mnist/t10k-labels-idx1-ubyte.gz\n",
      "Downloading http://yann.lecun.com/exdb/mnist/t10k-labels-idx1-ubyte.gz to ./mnist/train/MNIST/raw/t10k-labels-idx1-ubyte.gz\n",
      "Extracting ./mnist/train/MNIST/raw/t10k-labels-idx1-ubyte.gz to ./mnist/train/MNIST/raw\n",
      "\n",
      "Downloading http://yann.lecun.com/exdb/mnist/train-images-idx3-ubyte.gz\n",
      "Downloading http://yann.lecun.com/exdb/mnist/train-images-idx3-ubyte.gz to ./mnist/test/MNIST/raw/train-images-idx3-ubyte.gz\n"
     ]
    },
    {
     "name": "stderr",
     "output_type": "stream",
     "text": [
      "100.0%\n"
     ]
    },
    {
     "name": "stdout",
     "output_type": "stream",
     "text": [
      "Extracting ./mnist/test/MNIST/raw/train-images-idx3-ubyte.gz to ./mnist/test/MNIST/raw\n",
      "\n",
      "Downloading http://yann.lecun.com/exdb/mnist/train-labels-idx1-ubyte.gz\n",
      "Downloading http://yann.lecun.com/exdb/mnist/train-labels-idx1-ubyte.gz to ./mnist/test/MNIST/raw/train-labels-idx1-ubyte.gz\n"
     ]
    },
    {
     "name": "stderr",
     "output_type": "stream",
     "text": [
      "100.0%\n",
      "100.0%\n"
     ]
    },
    {
     "name": "stdout",
     "output_type": "stream",
     "text": [
      "Extracting ./mnist/test/MNIST/raw/train-labels-idx1-ubyte.gz to ./mnist/test/MNIST/raw\n",
      "\n",
      "Downloading http://yann.lecun.com/exdb/mnist/t10k-images-idx3-ubyte.gz\n",
      "Downloading http://yann.lecun.com/exdb/mnist/t10k-images-idx3-ubyte.gz to ./mnist/test/MNIST/raw/t10k-images-idx3-ubyte.gz\n",
      "Extracting ./mnist/test/MNIST/raw/t10k-images-idx3-ubyte.gz to ./mnist/test/MNIST/raw\n",
      "\n",
      "Downloading http://yann.lecun.com/exdb/mnist/t10k-labels-idx1-ubyte.gz\n"
     ]
    },
    {
     "name": "stderr",
     "output_type": "stream",
     "text": [
      "100.0%"
     ]
    },
    {
     "name": "stdout",
     "output_type": "stream",
     "text": [
      "Downloading http://yann.lecun.com/exdb/mnist/t10k-labels-idx1-ubyte.gz to ./mnist/test/MNIST/raw/t10k-labels-idx1-ubyte.gz\n",
      "Extracting ./mnist/test/MNIST/raw/t10k-labels-idx1-ubyte.gz to ./mnist/test/MNIST/raw\n",
      "\n"
     ]
    },
    {
     "name": "stderr",
     "output_type": "stream",
     "text": [
      "\n"
     ]
    }
   ],
   "source": [
    "# load datasets\n",
    "train_set = datasets.MNIST(\"./mnist/train\", train=True, transform=transforms.ToTensor(), download=True)\n",
    "test_set = datasets.MNIST(\"./mnist/test\", train=False, transform=transforms.ToTensor(), download=True)"
   ]
  },
  {
   "cell_type": "code",
   "execution_count": 3,
   "metadata": {
    "id": "A8pqIfQkTql6"
   },
   "outputs": [],
   "source": [
    "# generate indices: instead of the actual data we pass in integers instead\n",
    "train_indices, val_indices, _, _ = train_test_split(\n",
    "    range(len(train_set)),\n",
    "    train_set.targets,\n",
    "    stratify=train_set.targets,\n",
    "    train_size=0.8,\n",
    ")\n",
    "\n",
    "# generate subset based on indices\n",
    "train_split = Subset(train_set, train_indices)\n",
    "val_split = Subset(train_set, val_indices)"
   ]
  },
  {
   "cell_type": "code",
   "execution_count": 4,
   "metadata": {
    "id": "LUeWNiZwVUDv"
   },
   "outputs": [],
   "source": [
    "train_loader = DataLoader(train_split, batch_size=128)\n",
    "val_loader = DataLoader(val_split, batch_size=128)\n",
    "test_loader = DataLoader(test_set, batch_size=128)"
   ]
  },
  {
   "cell_type": "code",
   "execution_count": 5,
   "metadata": {
    "id": "pvMfrWf1VZWl"
   },
   "outputs": [],
   "source": [
    "device = torch.device('cuda' if torch.cuda.is_available() else 'cpu')"
   ]
  },
  {
   "cell_type": "code",
   "execution_count": 107,
   "metadata": {
    "id": "mhBShSjuVbeD"
   },
   "outputs": [
    {
     "name": "stdout",
     "output_type": "stream",
     "text": [
      "CNN(\n",
      "  (conv1): Conv2d(1, 16, kernel_size=(3, 3), stride=(1, 1))\n",
      "  (pool1): MaxPool2d(kernel_size=2, stride=2, padding=0, dilation=1, ceil_mode=False)\n",
      "  (conv2): Conv2d(16, 32, kernel_size=(4, 4), stride=(1, 1))\n",
      "  (pool2): MaxPool2d(kernel_size=2, stride=2, padding=0, dilation=1, ceil_mode=False)\n",
      "  (conv3): Conv2d(32, 64, kernel_size=(2, 2), stride=(1, 1))\n",
      "  (pool3): MaxPool2d(kernel_size=2, stride=2, padding=0, dilation=1, ceil_mode=False)\n",
      "  (linear): Linear(in_features=256, out_features=1000, bias=True)\n",
      "  (output): Softmax(dim=1)\n",
      ")\n"
     ]
    }
   ],
   "source": [
    "# Define the model\n",
    "class CNN(nn.Module):\n",
    "  def __init__(self, output_size):\n",
    "    super(CNN, self).__init__()\n",
    "    self.layers = []\n",
    "    \"\"\"\n",
    "        Begining of of Implement\n",
    "        define the CNN network following these requirements:\n",
    "        1. Implement self.conv1/2/3, self.pool1/2/3 with channel numbers 16, 32, 64 respectively, using kernel sizes 3, 4, 2 respectively (stride=1 and padding=0).\n",
    "        2. Use MaxPool with a shape of (2, 2) for self.pool1/2/3.\n",
    "        3. Add a hidden linear layer with 1000 neurons before the output layer.\n",
    "        4. Set self.output as the softmax operator.\n",
    "    \"\"\"\n",
    "    # your code here\n",
    "           # self.conv1 = nn.Conv2d(in_channels=1, out_channels=32, kernel_size=3, stride=1, padding=1)\n",
    "    self.conv1= nn.Conv2d(in_channels=1, out_channels=16, kernel_size=3, stride=1, padding=0)\n",
    "    self.pool1 = nn.MaxPool2d(2)\n",
    "    self.conv2 = nn.Conv2d(in_channels=16, out_channels=32, kernel_size=4, stride=1, padding=0)\n",
    "    self.pool2 = nn.MaxPool2d(2)\n",
    "    self.conv3 = nn.Conv2d(in_channels=32, out_channels=64, kernel_size=2, stride=1, padding=0)\n",
    "    self.pool3 = nn.MaxPool2d(2)\n",
    "    self.linear = nn.Linear(in_features=256, out_features=1000)\n",
    "    self.output = nn.Softmax(dim=1)\n",
    "\n",
    "    \"\"\"\n",
    "        End of Implement\n",
    "    \"\"\"\n",
    "\n",
    "\n",
    "  def forward(self, x):\n",
    "    batchsize = x.shape[0]\n",
    "    \"\"\"\n",
    "        \n",
    "        Begining of of Implement\n",
    "        excecute the forward step:\n",
    "        1. Use ReLU activation after convolution and before pooling.\n",
    "        2. Reshape the data before feeding it into the linear layer.\n",
    "        3. Output the results using self.output.\n",
    "\n",
    "    \"\"\"\n",
    "    relu = nn.ReLU()\n",
    "    \n",
    "    x = self.conv1(x)\n",
    "    x = nn.functional.relu(x)\n",
    "    x = self.pool1(x)\n",
    "    \n",
    "    x = self.conv2(x)\n",
    "    x = nn.functional.relu(x)\n",
    "    x = self.pool2(x)\n",
    "    \n",
    "    x = self.conv3(x)\n",
    "    x = nn.functional.relu(x)\n",
    "    x = self.pool3(x)\n",
    "    # print(\"x shape\", x.size())\n",
    "    x = x.view(x.size(0), 256) # reshape\n",
    "    \n",
    "    x = self.linear(x)\n",
    "    x = self.output(x)\n",
    "    # your code here\n",
    "    return x\n",
    "\n",
    "    \"\"\"\n",
    "    \n",
    "        End of Implement\n",
    "    \"\"\"\n",
    "test = CNN(10)\n",
    "print(test)\n"
   ]
  },
  {
   "cell_type": "markdown",
   "metadata": {
    "id": "n7H0Xdm0B5dC"
   },
   "source": [
    "\n",
    "---\n",
    "\n",
    "Please calculate the total trainable parameter size of the above network  architecture: (fill in this blank)\n",
    "\n",
    "---\n",
    "\n"
   ]
  },
  {
   "cell_type": "code",
   "execution_count": 111,
   "metadata": {
    "id": "_t7XHUuoXlZz"
   },
   "outputs": [],
   "source": [
    "# Training function\n",
    "def train(model, criterion, optimizer, train_loader, val_loader, n_epochs):\n",
    "    train_acc, val_acc = [], []\n",
    "    for epoch in range(n_epochs):\n",
    "        # Training\n",
    "        model.train()\n",
    "        correct, total = 0, 0\n",
    "        for idx, (inputs, labels) in enumerate(train_loader):\n",
    "            inputs, labels = inputs.to(device), labels.to(device)\n",
    "\n",
    "            \"\"\"\n",
    "            Begining of of Implement\n",
    "            excecute the forward computation:\n",
    "            1. get the model outputs -> variable 'outputs';\n",
    "            2. change the format of labels to one hot -> variable 'labels_onehot';\n",
    "            3. compute loss -> variable 'loss'\n",
    "            \"\"\"\n",
    "            # your code here\n",
    "            outputs = model(inputs)\n",
    "            labels_onehot = nn.functional.one_hot(labels).to(torch.float)\n",
    "            \n",
    "            # reshape output to fit labels            \n",
    "            outputs = outputs.view(128, 10, -1).sum(dim=2)\n",
    "            \n",
    "            \n",
    "            loss = criterion(outputs, labels_onehot)\n",
    "\n",
    "            \"\"\"\n",
    "            End of Implement\n",
    "            \"\"\"\n",
    "            \n",
    "\n",
    "\n",
    "\n",
    "\n",
    "            \"\"\"\n",
    "            Begining of of Implement\n",
    "            do the optimization step:\n",
    "            1. clean the old/previous gradient;\n",
    "            2. compute the current gradient (backward propagation)\n",
    "            3. update the parameter\n",
    "            \"\"\"\n",
    "            loss.backward()\n",
    "            optimizer.step()\n",
    "            optimizer.zero_grad()\n",
    "            \n",
    "\n",
    "            \"\"\"\n",
    "            End of Implement\n",
    "            \"\"\"\n",
    "\n",
    "\n",
    "\n",
    "\n",
    "            \"\"\"\n",
    "            Begining of of Implement\n",
    "            get the predicted labels of the training data from variable 'outputs' -> variable 'predicted'\n",
    "\n",
    "            \"\"\"\n",
    "            predicted = outputs.argmax(dim=1)\n",
    "            # your code here\n",
    "\n",
    "            \"\"\"\n",
    "            End of Implement\n",
    "            \"\"\"\n",
    "\n",
    "            correct += (predicted == labels).sum().item()\n",
    "            total += labels.size(0)\n",
    "\n",
    "            if idx % 100 == 0:\n",
    "                print(f\"epoch: {epoch}, loss: {loss:.2f}, train_acc: {(correct/total):.2f}\")\n",
    "\n",
    "        train_acc.append(correct/total)\n",
    "\n",
    "        # Validation\n",
    "        model.eval()\n",
    "        correct, total = 0, 0\n",
    "        with torch.no_grad():\n",
    "            for inputs, labels in val_loader:\n",
    "                inputs, labels = inputs.to(device), labels.to(device)\n",
    "\n",
    "                \"\"\"\n",
    "                Begining of of Implement\n",
    "                1. get the model outputs -> variable 'outputs';\n",
    "                2. get the predicted labels -> predicted\n",
    "                \"\"\"\n",
    "                outputs = model(inputs)\n",
    "                outputs = outputs.view(outputs.size(0), 10, -1).sum(dim=2)\n",
    "                predicted = outputs.argmax(dim=1)\n",
    "\n",
    "\n",
    "                # your code here\n",
    "\n",
    "                \"\"\"\n",
    "                End of Implement\n",
    "                \"\"\"\n",
    "\n",
    "                correct += (predicted == labels).sum().item()\n",
    "                total += labels.size(0)\n",
    "        val_acc.append(correct/total)\n",
    "\n",
    "    return train_acc, val_acc"
   ]
  },
  {
   "cell_type": "code",
   "execution_count": 112,
   "metadata": {
    "id": "1x7eOqdiXqFg"
   },
   "outputs": [],
   "source": [
    "# Testing function\n",
    "def test(model, test_loader):\n",
    "    model.eval()\n",
    "    correct, total = 0, 0\n",
    "    with torch.no_grad():\n",
    "        for inputs, labels in test_loader:\n",
    "            inputs, labels = inputs.to(device), labels.to(device)\n",
    "\n",
    "            \"\"\"\n",
    "            Begining of of Implement\n",
    "            1. get the model outputs -> variable 'outputs';\n",
    "            2. get the predicted labels -> predicted\n",
    "            \"\"\"\n",
    "            outputs = model(inputs)\n",
    "            outputs = outputs.view(outputs.size(0), 10, -1).sum(dim=2)\n",
    "            predicted = outputs.argmax(dim=1)\n",
    "            # your code here\n",
    "\n",
    "            \"\"\"\n",
    "            End of Implement\n",
    "            \"\"\"\n",
    "\n",
    "            correct += (predicted == labels).sum().item()\n",
    "            total += labels.size(0)\n",
    "    return correct/total"
   ]
  },
  {
   "cell_type": "code",
   "execution_count": 113,
   "metadata": {
    "id": "etTRkB9bXs9L"
   },
   "outputs": [
    {
     "name": "stdout",
     "output_type": "stream",
     "text": [
      "epoch: 0, loss: 0.09, train_acc: 0.09\n",
      "epoch: 0, loss: 0.02, train_acc: 0.66\n",
      "epoch: 0, loss: 0.02, train_acc: 0.79\n",
      "epoch: 0, loss: 0.01, train_acc: 0.84\n",
      "epoch: 1, loss: 0.00, train_acc: 0.97\n",
      "epoch: 1, loss: 0.00, train_acc: 0.96\n",
      "epoch: 1, loss: 0.01, train_acc: 0.96\n",
      "epoch: 1, loss: 0.00, train_acc: 0.96\n",
      "epoch: 2, loss: 0.00, train_acc: 0.97\n",
      "epoch: 2, loss: 0.00, train_acc: 0.97\n",
      "epoch: 2, loss: 0.01, train_acc: 0.97\n",
      "epoch: 2, loss: 0.00, train_acc: 0.97\n",
      "epoch: 3, loss: 0.00, train_acc: 0.98\n",
      "epoch: 3, loss: 0.00, train_acc: 0.98\n",
      "epoch: 3, loss: 0.00, train_acc: 0.98\n",
      "epoch: 3, loss: 0.00, train_acc: 0.98\n",
      "epoch: 4, loss: 0.00, train_acc: 0.98\n",
      "epoch: 4, loss: 0.00, train_acc: 0.98\n",
      "epoch: 4, loss: 0.00, train_acc: 0.98\n",
      "epoch: 4, loss: 0.00, train_acc: 0.98\n"
     ]
    },
    {
     "data": {
      "image/png": "[encoded data removed]",
      "text/plain": [
       "<Figure size 640x480 with 1 Axes>"
      ]
     },
     "metadata": {},
     "output_type": "display_data"
    }
   ],
   "source": [
    "# Hyperparameters\n",
    "output_size = 10\n",
    "n_epochs = 5\n",
    "lr = 0.001\n",
    "\n",
    "# Training, Validation, and Testing\n",
    "model = CNN(output_size).to(device)\n",
    "criterion = nn.MSELoss()\n",
    "optimizer = torch.optim.Adam(model.parameters(), lr=lr)\n",
    "train_acc, val_acc = train(model, criterion, optimizer, train_loader, val_loader, n_epochs)\n",
    "test_acc = test(model, test_loader)\n",
    "plt.plot(train_acc, label='Train Acc')\n",
    "plt.plot(val_acc, label='Val Acc')\n",
    "plt.legend(loc='lower right')\n",
    "plt.title(f'Test Acc: {test_acc}')\n",
    "plt.xlabel(\"epoch\")\n",
    "plt.ylabel(\"accuracy\")\n",
    "plt.show()"
   ]
  },
  {
   "cell_type": "code",
   "execution_count": null,
   "metadata": {},
   "outputs": [],
   "source": []
  },
  {
   "cell_type": "code",
   "execution_count": null,
   "metadata": {},
   "outputs": [],
   "source": []
  },
  {
   "cell_type": "code",
   "execution_count": null,
   "metadata": {},
   "outputs": [],
   "source": []
  }
 ],
 "metadata": {
  "colab": {
   "provenance": []
  },
  "kernelspec": {
   "display_name": "Python 3 (ipykernel)",
   "language": "python",
   "name": "python3"
  },
  "language_info": {
   "codemirror_mode": {
    "name": "ipython",
    "version": 3
   },
   "file_extension": ".py",
   "mimetype": "text/x-python",
   "name": "python",
   "nbconvert_exporter": "python",
   "pygments_lexer": "ipython3",
   "version": "3.11.4"
  }
 },
 "nbformat": 4,
 "nbformat_minor": 4
}
